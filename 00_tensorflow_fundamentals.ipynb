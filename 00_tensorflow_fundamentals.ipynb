{
  "nbformat": 4,
  "nbformat_minor": 0,
  "metadata": {
    "colab": {
      "provenance": [],
      "authorship_tag": "ABX9TyP2mwTZ1VCUu3mCEaUWvhay",
      "include_colab_link": true
    },
    "kernelspec": {
      "name": "python3",
      "display_name": "Python 3"
    },
    "language_info": {
      "name": "python"
    }
  },
  "cells": [
    {
      "cell_type": "markdown",
      "metadata": {
        "id": "view-in-github",
        "colab_type": "text"
      },
      "source": [
        "<a href=\"https://colab.research.google.com/github/BustamJos3/learningTensorFlow/blob/DLAndTFFundamentals/00_tensorflow_fundamentals.ipynb\" target=\"_parent\"><img src=\"https://colab.research.google.com/assets/colab-badge.svg\" alt=\"Open In Colab\"/></a>"
      ]
    },
    {
      "cell_type": "markdown",
      "source": [
        "# Most fundamental concepts\n",
        "* intro to tensors\n",
        "* getting info from tensors\n",
        "* manipulating tensors\n",
        "* Tensors & numpy\n",
        "* using @tf.function (speed up regular py functions)\n",
        "* use GPU/TPU with TF\n",
        "* few exercises"
      ],
      "metadata": {
        "id": "iQmOLwGHTFNm"
      }
    },
    {
      "cell_type": "markdown",
      "source": [
        "## Intro to tensors"
      ],
      "metadata": {
        "id": "zN4heh0TTwlk"
      }
    },
    {
      "cell_type": "code",
      "source": [
        "# import TF\n",
        "import tensorflow as tf\n",
        "print(tf.__version__)"
      ],
      "metadata": {
        "colab": {
          "base_uri": "https://localhost:8080/"
        },
        "id": "zT-vR-uRUlLS",
        "outputId": "f85b08a7-7740-4c9d-d46f-65a13e2512b5"
      },
      "execution_count": 2,
      "outputs": [
        {
          "output_type": "stream",
          "name": "stdout",
          "text": [
            "2.9.2\n"
          ]
        }
      ]
    },
    {
      "cell_type": "code",
      "source": [
        "# 1st tensor: tf.constant()\n",
        "scalarTensor=tf.constant(7)\n",
        "scalarTensor"
      ],
      "metadata": {
        "colab": {
          "base_uri": "https://localhost:8080/"
        },
        "id": "_DY3INMnWHae",
        "outputId": "0a206c19-312f-4328-bcd0-a328529a0b53"
      },
      "execution_count": null,
      "outputs": [
        {
          "output_type": "execute_result",
          "data": {
            "text/plain": [
              "<tf.Tensor: shape=(), dtype=int32, numpy=7>"
            ]
          },
          "metadata": {},
          "execution_count": 4
        }
      ]
    },
    {
      "cell_type": "code",
      "source": [
        "# check number of dimensions of a tensor\n",
        "scalarTensor.ndim"
      ],
      "metadata": {
        "colab": {
          "base_uri": "https://localhost:8080/"
        },
        "id": "BQuE7UTHWfRV",
        "outputId": "b92a0bd6-c858-49dc-c1e6-4c17e79ad569"
      },
      "execution_count": null,
      "outputs": [
        {
          "output_type": "execute_result",
          "data": {
            "text/plain": [
              "0"
            ]
          },
          "metadata": {},
          "execution_count": 6
        }
      ]
    },
    {
      "cell_type": "code",
      "source": [
        "# create a vector\n",
        "vectorTensor=tf.constant([10]*2)\n",
        "vectorTensor, vectorTensor.ndim"
      ],
      "metadata": {
        "colab": {
          "base_uri": "https://localhost:8080/"
        },
        "id": "tf-hKUEWXiJ_",
        "outputId": "cbc83762-f85b-40a9-d9d5-f534da9b48aa"
      },
      "execution_count": null,
      "outputs": [
        {
          "output_type": "execute_result",
          "data": {
            "text/plain": [
              "(<tf.Tensor: shape=(2,), dtype=int32, numpy=array([10, 10], dtype=int32)>, 1)"
            ]
          },
          "metadata": {},
          "execution_count": 8
        }
      ]
    },
    {
      "cell_type": "code",
      "source": [
        "# create a matrix\n",
        "matrixTensor=tf.constant([[10, 7], [7, 10]])\n",
        "matrixTensor, matrixTensor.ndim"
      ],
      "metadata": {
        "colab": {
          "base_uri": "https://localhost:8080/"
        },
        "id": "K4edTIOuX-Il",
        "outputId": "78cbe876-d376-4ef4-fae6-b27ba652a400"
      },
      "execution_count": null,
      "outputs": [
        {
          "output_type": "execute_result",
          "data": {
            "text/plain": [
              "(<tf.Tensor: shape=(2, 2), dtype=int32, numpy=\n",
              " array([[10,  7],\n",
              "        [ 7, 10]], dtype=int32)>, 2)"
            ]
          },
          "metadata": {},
          "execution_count": 10
        }
      ]
    },
    {
      "cell_type": "code",
      "source": [
        "# using dtype parameter on tf.constant() to specify the data type\n",
        "matrixTensor1=tf.constant([[10., 7.], \n",
        "                           [3., 2.], \n",
        "                           [8., 9.]], dtype=tf.float16)\n",
        "matrixTensor1, matrixTensor1.ndim"
      ],
      "metadata": {
        "colab": {
          "base_uri": "https://localhost:8080/"
        },
        "id": "eUOEhG1bYhZg",
        "outputId": "6ba9d046-55f5-42fb-88ce-91e411749994"
      },
      "execution_count": null,
      "outputs": [
        {
          "output_type": "execute_result",
          "data": {
            "text/plain": [
              "(<tf.Tensor: shape=(3, 2), dtype=float16, numpy=\n",
              " array([[10.,  7.],\n",
              "        [ 3.,  2.],\n",
              "        [ 8.,  9.]], dtype=float16)>, 2)"
            ]
          },
          "metadata": {},
          "execution_count": 11
        }
      ]
    },
    {
      "cell_type": "code",
      "source": [
        "# creation of a tensor\n",
        "tensor=tf.constant([[[1, 2, 3], \n",
        "                     [4, 5, 6]], \n",
        "                    [[7, 8, 9], \n",
        "                     [10, 11, 12]], \n",
        "                    [[13, 14, 15], \n",
        "                     [16, 17, 18]]])\n",
        "tensor, tensor.ndim"
      ],
      "metadata": {
        "colab": {
          "base_uri": "https://localhost:8080/"
        },
        "id": "WgguB8iLbpkI",
        "outputId": "8ce4e713-ae96-48bc-8c9e-55aaffa258cb"
      },
      "execution_count": null,
      "outputs": [
        {
          "output_type": "execute_result",
          "data": {
            "text/plain": [
              "(<tf.Tensor: shape=(3, 2, 3), dtype=int32, numpy=\n",
              " array([[[ 1,  2,  3],\n",
              "         [ 4,  5,  6]],\n",
              " \n",
              "        [[ 7,  8,  9],\n",
              "         [10, 11, 12]],\n",
              " \n",
              "        [[13, 14, 15],\n",
              "         [16, 17, 18]]], dtype=int32)>, 3)"
            ]
          },
          "metadata": {},
          "execution_count": 13
        }
      ]
    },
    {
      "cell_type": "markdown",
      "source": [
        "# What we've created so far:\n",
        "* Scalar\n",
        "* Vector\n",
        "* Matrix\n",
        "* Tensor"
      ],
      "metadata": {
        "id": "4Ni7G0NadVhp"
      }
    },
    {
      "cell_type": "markdown",
      "source": [
        "# Creating tensors with ```tf.Variable()```"
      ],
      "metadata": {
        "id": "oZkfCKb7spxS"
      }
    },
    {
      "cell_type": "code",
      "source": [
        "# create the same tensor with tf.Variable as above\n",
        "changeableTensor=tf.Variable([10, 7])\n",
        "unchangeableTensor=tf.constant([10, 7])\n",
        "changeableTensor, unchangeableTensor"
      ],
      "metadata": {
        "colab": {
          "base_uri": "https://localhost:8080/"
        },
        "id": "1hHXzDJ9sZqz",
        "outputId": "18ffc970-67c7-4fdc-d36f-6b0c1a4e3bb0"
      },
      "execution_count": 2,
      "outputs": [
        {
          "output_type": "execute_result",
          "data": {
            "text/plain": [
              "(<tf.Variable 'Variable:0' shape=(2,) dtype=int32, numpy=array([10,  7], dtype=int32)>,\n",
              " <tf.Tensor: shape=(2,), dtype=int32, numpy=array([10,  7], dtype=int32)>)"
            ]
          },
          "metadata": {},
          "execution_count": 2
        }
      ]
    },
    {
      "cell_type": "code",
      "source": [
        "# change 1 of the elements of changeableTensor\n",
        "changeableTensor[0] = 7\n",
        "changeableTensor"
      ],
      "metadata": {
        "colab": {
          "base_uri": "https://localhost:8080/",
          "height": 202
        },
        "id": "AEgIQqoftGb-",
        "outputId": "df4dc729-2aab-49f2-dc1f-5d1e03aefbb2"
      },
      "execution_count": 5,
      "outputs": [
        {
          "output_type": "error",
          "ename": "TypeError",
          "evalue": "ignored",
          "traceback": [
            "\u001b[0;31m---------------------------------------------------------------------------\u001b[0m",
            "\u001b[0;31mTypeError\u001b[0m                                 Traceback (most recent call last)",
            "\u001b[0;32m<ipython-input-5-a4aaaf02e1b6>\u001b[0m in \u001b[0;36m<module>\u001b[0;34m\u001b[0m\n\u001b[1;32m      1\u001b[0m \u001b[0;31m# change 1 of the elements of changeableTensor\u001b[0m\u001b[0;34m\u001b[0m\u001b[0;34m\u001b[0m\u001b[0;34m\u001b[0m\u001b[0m\n\u001b[0;32m----> 2\u001b[0;31m \u001b[0mchangeableTensor\u001b[0m\u001b[0;34m[\u001b[0m\u001b[0;36m0\u001b[0m\u001b[0;34m]\u001b[0m \u001b[0;34m=\u001b[0m \u001b[0;36m7\u001b[0m\u001b[0;34m\u001b[0m\u001b[0;34m\u001b[0m\u001b[0m\n\u001b[0m\u001b[1;32m      3\u001b[0m \u001b[0mchangeableTensor\u001b[0m\u001b[0;34m\u001b[0m\u001b[0;34m\u001b[0m\u001b[0m\n",
            "\u001b[0;31mTypeError\u001b[0m: 'ResourceVariable' object does not support item assignment"
          ]
        }
      ]
    },
    {
      "cell_type": "code",
      "source": [
        "# use method .assign\n",
        "changeableTensor[0].assign(7)\n",
        "changeableTensor[0]"
      ],
      "metadata": {
        "colab": {
          "base_uri": "https://localhost:8080/"
        },
        "id": "MXO5rnx3to6m",
        "outputId": "3ea6bc29-5cf7-4f73-91e6-46f7c6559f65"
      },
      "execution_count": 7,
      "outputs": [
        {
          "output_type": "execute_result",
          "data": {
            "text/plain": [
              "<tf.Tensor: shape=(), dtype=int32, numpy=7>"
            ]
          },
          "metadata": {},
          "execution_count": 7
        }
      ]
    },
    {
      "cell_type": "code",
      "source": [
        "# try to change unchangeableTensor\n",
        "unchangeableTensor[0].assign(7)\n",
        "unchangeableTensor[0]"
      ],
      "metadata": {
        "colab": {
          "base_uri": "https://localhost:8080/",
          "height": 323
        },
        "id": "wK5NdeJguJtC",
        "outputId": "e7db5010-caf1-4e15-d619-956e9917758d"
      },
      "execution_count": 11,
      "outputs": [
        {
          "output_type": "error",
          "ename": "AttributeError",
          "evalue": "ignored",
          "traceback": [
            "\u001b[0;31m---------------------------------------------------------------------------\u001b[0m",
            "\u001b[0;31mAttributeError\u001b[0m                            Traceback (most recent call last)",
            "\u001b[0;32m<ipython-input-11-b5a613c8768c>\u001b[0m in \u001b[0;36m<module>\u001b[0;34m\u001b[0m\n\u001b[1;32m      1\u001b[0m \u001b[0;31m# try to change unchangeableTensor\u001b[0m\u001b[0;34m\u001b[0m\u001b[0;34m\u001b[0m\u001b[0;34m\u001b[0m\u001b[0m\n\u001b[0;32m----> 2\u001b[0;31m \u001b[0munchangeableTensor\u001b[0m\u001b[0;34m[\u001b[0m\u001b[0;36m0\u001b[0m\u001b[0;34m]\u001b[0m\u001b[0;34m.\u001b[0m\u001b[0massign\u001b[0m\u001b[0;34m(\u001b[0m\u001b[0;36m7\u001b[0m\u001b[0;34m)\u001b[0m\u001b[0;34m\u001b[0m\u001b[0;34m\u001b[0m\u001b[0m\n\u001b[0m\u001b[1;32m      3\u001b[0m \u001b[0munchangeableTensor\u001b[0m\u001b[0;34m[\u001b[0m\u001b[0;36m0\u001b[0m\u001b[0;34m]\u001b[0m\u001b[0;34m\u001b[0m\u001b[0;34m\u001b[0m\u001b[0m\n",
            "\u001b[0;32m/usr/local/lib/python3.8/dist-packages/tensorflow/python/framework/ops.py\u001b[0m in \u001b[0;36m__getattr__\u001b[0;34m(self, name)\u001b[0m\n\u001b[1;32m    444\u001b[0m         \u001b[0mnp_config\u001b[0m\u001b[0;34m.\u001b[0m\u001b[0menable_numpy_behavior\u001b[0m\u001b[0;34m(\u001b[0m\u001b[0;34m)\u001b[0m\u001b[0;34m\u001b[0m\u001b[0;34m\u001b[0m\u001b[0m\n\u001b[1;32m    445\u001b[0m       \"\"\")\n\u001b[0;32m--> 446\u001b[0;31m     \u001b[0mself\u001b[0m\u001b[0;34m.\u001b[0m\u001b[0m__getattribute__\u001b[0m\u001b[0;34m(\u001b[0m\u001b[0mname\u001b[0m\u001b[0;34m)\u001b[0m\u001b[0;34m\u001b[0m\u001b[0;34m\u001b[0m\u001b[0m\n\u001b[0m\u001b[1;32m    447\u001b[0m \u001b[0;34m\u001b[0m\u001b[0m\n\u001b[1;32m    448\u001b[0m   \u001b[0;34m@\u001b[0m\u001b[0mstaticmethod\u001b[0m\u001b[0;34m\u001b[0m\u001b[0;34m\u001b[0m\u001b[0m\n",
            "\u001b[0;31mAttributeError\u001b[0m: 'tensorflow.python.framework.ops.EagerTensor' object has no attribute 'assign'"
          ]
        }
      ]
    },
    {
      "cell_type": "markdown",
      "source": [
        "🔑**Note**: rarely in practice you will need to decide whether to use ```tf.constant``` or ```tf.Variable``` to create tensors, as TensorFlow does this for you. If in doubt, use ```tf.constant``` and change it later. "
      ],
      "metadata": {
        "id": "OutkDwiqv07l"
      }
    },
    {
      "cell_type": "markdown",
      "source": [
        "# Creating random tensors\n",
        "Are tensors of some arbitrary size which contain random numbers."
      ],
      "metadata": {
        "id": "njJPD5z-u560"
      }
    },
    {
      "cell_type": "code",
      "source": [
        "# create 2 random (but the same) tensors\n",
        "random1 = tf.random.Generator.from_seed(7) # set seed for reproducibility\n",
        "random1 = random1.normal(shape = (3, 2))\n",
        "random2 = tf.random.Generator.from_seed(7) # set seed for reproducibility\n",
        "random2 = random2.normal(shape = (3, 2))\n",
        "\n",
        "# are they equal?\n",
        "random1, random2, random1 == random2"
      ],
      "metadata": {
        "colab": {
          "base_uri": "https://localhost:8080/"
        },
        "id": "dijT3mt4vDMD",
        "outputId": "e506c1e4-4200-42ad-92d4-9f04342b6843"
      },
      "execution_count": 15,
      "outputs": [
        {
          "output_type": "execute_result",
          "data": {
            "text/plain": [
              "(<tf.Tensor: shape=(3, 2), dtype=float32, numpy=\n",
              " array([[-1.3240396 ,  0.28785667],\n",
              "        [-0.8757901 , -0.08857018],\n",
              "        [ 0.69211644,  0.84215707]], dtype=float32)>,\n",
              " <tf.Tensor: shape=(3, 2), dtype=float32, numpy=\n",
              " array([[-1.3240396 ,  0.28785667],\n",
              "        [-0.8757901 , -0.08857018],\n",
              "        [ 0.69211644,  0.84215707]], dtype=float32)>,\n",
              " <tf.Tensor: shape=(3, 2), dtype=bool, numpy=\n",
              " array([[ True,  True],\n",
              "        [ True,  True],\n",
              "        [ True,  True]])>)"
            ]
          },
          "metadata": {},
          "execution_count": 15
        }
      ]
    },
    {
      "cell_type": "markdown",
      "source": [
        "### Shuffle the order of elements in a tensor"
      ],
      "metadata": {
        "id": "sSht03c7zIJR"
      }
    },
    {
      "cell_type": "code",
      "source": [
        "from operator import not_\n",
        "# Shuffle a tensor (shuffle data so the inherent order does not affect learning)\n",
        "not_shuffled= tf.constant([[10, 7],\n",
        "                           [3, 4],\n",
        "                           [2, 5]])\n",
        "# Shuffle our tensor\n",
        "tf.random.shuffle( not_shuffled )"
      ],
      "metadata": {
        "colab": {
          "base_uri": "https://localhost:8080/"
        },
        "id": "IU5qtRn6TeuI",
        "outputId": "902e9f21-f39a-4bc0-9510-68c2d4ae8f3f"
      },
      "execution_count": 4,
      "outputs": [
        {
          "output_type": "execute_result",
          "data": {
            "text/plain": [
              "<tf.Tensor: shape=(3, 2), dtype=int32, numpy=\n",
              "array([[10,  7],\n",
              "       [ 2,  5],\n",
              "       [ 3,  4]], dtype=int32)>"
            ]
          },
          "metadata": {},
          "execution_count": 4
        }
      ]
    },
    {
      "cell_type": "code",
      "source": [
        "# global random seed\n",
        "tf.random.set_seed(42)\n",
        "# operational random seed: it's a part of an operation\n",
        "tf.random.shuffle( not_shuffled, seed=42 )"
      ],
      "metadata": {
        "colab": {
          "base_uri": "https://localhost:8080/"
        },
        "id": "dpy0Xqo2VIZp",
        "outputId": "9ba66820-92c9-478f-d14f-4ac4ac2bec29"
      },
      "execution_count": 6,
      "outputs": [
        {
          "output_type": "execute_result",
          "data": {
            "text/plain": [
              "<tf.Tensor: shape=(3, 2), dtype=int32, numpy=\n",
              "array([[10,  7],\n",
              "       [ 3,  4],\n",
              "       [ 2,  5]], dtype=int32)>"
            ]
          },
          "metadata": {},
          "execution_count": 6
        }
      ]
    },
    {
      "cell_type": "markdown",
      "source": [
        "⚒**Exercise**: read through TensorFlow [docs](https://www.tensorflow.org/api_docs/python/tf/random/set_seed) on random seed generation and practice writing 5 random tensors and shuffle them\n",
        ">1. If neither the global seed nor the operation seed is set: A randomly picked seed is used for this op.\n",
        ">2. If the global seed is set, but the operation seed is not: The system deterministically picks an operation seed in conjunction with the global seed so that it gets a unique random sequence. Within the same version of tensorflow and user code, this sequence is deterministic. However across different versions, this sequence might change. If the code depends on particular seeds to work, specify both global and operation-level seeds explicitly.\n",
        ">3. If the operation seed is set, but the global seed is not set: A default global seed and the specified operation seed are used to determine the random sequence.\n",
        ">4. If both the global and the operation seed are set: Both seeds are used in conjunction to determine the random sequence."
      ],
      "metadata": {
        "id": "2RQazNv7Zd7S"
      }
    },
    {
      "cell_type": "code",
      "source": [
        "#set global seed\n",
        "tf.random.set_seed(0)\n",
        "#generate 5 tensors\n",
        "tensor_container=[]\n",
        "for i in range(5):\n",
        "    tensor_container.append(tf.random.uniform( shape=(3, 3) ))\n",
        "tensor_container"
      ],
      "metadata": {
        "colab": {
          "base_uri": "https://localhost:8080/"
        },
        "id": "ZJiP63kEaAe_",
        "outputId": "6db8a0bb-59da-4b40-d418-aeec793fb366"
      },
      "execution_count": 11,
      "outputs": [
        {
          "output_type": "execute_result",
          "data": {
            "text/plain": [
              "[<tf.Tensor: shape=(3, 3), dtype=float32, numpy=\n",
              " array([[0.29197514, 0.20656645, 0.53539073],\n",
              "        [0.5612575 , 0.4166745 , 0.80782795],\n",
              "        [0.4932251 , 0.99812925, 0.69673514]], dtype=float32)>,\n",
              " <tf.Tensor: shape=(3, 3), dtype=float32, numpy=\n",
              " array([[0.5554141 , 0.22129297, 0.8649249 ],\n",
              "        [0.77728355, 0.6451167 , 0.53036225],\n",
              "        [0.01444101, 0.87350917, 0.4697218 ]], dtype=float32)>,\n",
              " <tf.Tensor: shape=(3, 3), dtype=float32, numpy=\n",
              " array([[0.1952138 , 0.7401732 , 0.4878018 ],\n",
              "        [0.8753203 , 0.4071133 , 0.01454818],\n",
              "        [0.7095418 , 0.36551023, 0.5808557 ]], dtype=float32)>,\n",
              " <tf.Tensor: shape=(3, 3), dtype=float32, numpy=\n",
              " array([[0.17513537, 0.3179742 , 0.8555474 ],\n",
              "        [0.41725898, 0.23591995, 0.22561431],\n",
              "        [0.59902835, 0.8288827 , 0.59770846]], dtype=float32)>,\n",
              " <tf.Tensor: shape=(3, 3), dtype=float32, numpy=\n",
              " array([[0.01353359, 0.09272444, 0.48645425],\n",
              "        [0.7050798 , 0.35681212, 0.5552772 ],\n",
              "        [0.6914648 , 0.42106915, 0.20796216]], dtype=float32)>]"
            ]
          },
          "metadata": {},
          "execution_count": 11
        }
      ]
    },
    {
      "cell_type": "markdown",
      "source": [
        "### Other ways to make tensors\n",
        "Very **similar to numpy**"
      ],
      "metadata": {
        "id": "Hx2vyqAVcIvq"
      }
    },
    {
      "cell_type": "code",
      "source": [
        "tf.ones([10, 7])"
      ],
      "metadata": {
        "colab": {
          "base_uri": "https://localhost:8080/"
        },
        "id": "rRrfaUmwf4rL",
        "outputId": "2ff1764d-e3bf-45de-b57d-e7f89260f4ed"
      },
      "execution_count": 13,
      "outputs": [
        {
          "output_type": "execute_result",
          "data": {
            "text/plain": [
              "<tf.Tensor: shape=(10, 7), dtype=float32, numpy=\n",
              "array([[1., 1., 1., 1., 1., 1., 1.],\n",
              "       [1., 1., 1., 1., 1., 1., 1.],\n",
              "       [1., 1., 1., 1., 1., 1., 1.],\n",
              "       [1., 1., 1., 1., 1., 1., 1.],\n",
              "       [1., 1., 1., 1., 1., 1., 1.],\n",
              "       [1., 1., 1., 1., 1., 1., 1.],\n",
              "       [1., 1., 1., 1., 1., 1., 1.],\n",
              "       [1., 1., 1., 1., 1., 1., 1.],\n",
              "       [1., 1., 1., 1., 1., 1., 1.],\n",
              "       [1., 1., 1., 1., 1., 1., 1.]], dtype=float32)>"
            ]
          },
          "metadata": {},
          "execution_count": 13
        }
      ]
    },
    {
      "cell_type": "code",
      "source": [
        "tf.zeros(shape=(3, 4))"
      ],
      "metadata": {
        "colab": {
          "base_uri": "https://localhost:8080/"
        },
        "id": "-xqm4SYegH5B",
        "outputId": "2a429c06-c5f0-4a59-8081-81d15948c79d"
      },
      "execution_count": 14,
      "outputs": [
        {
          "output_type": "execute_result",
          "data": {
            "text/plain": [
              "<tf.Tensor: shape=(3, 4), dtype=float32, numpy=\n",
              "array([[0., 0., 0., 0.],\n",
              "       [0., 0., 0., 0.],\n",
              "       [0., 0., 0., 0.]], dtype=float32)>"
            ]
          },
          "metadata": {},
          "execution_count": 14
        }
      ]
    },
    {
      "cell_type": "markdown",
      "source": [
        "### Turn numpy arrays into tensors\n",
        "Diff, Numpy arrays vs TensorFlow arrays, tensors can be run on a GPU (much faster numerical computing)"
      ],
      "metadata": {
        "id": "55qGG7jtgfjE"
      }
    },
    {
      "cell_type": "code",
      "source": [
        "# you can turn Numpy arrays into tensors\n",
        "import numpy as np\n"
      ],
      "metadata": {
        "id": "3bwwYBbBgi3q"
      },
      "execution_count": 15,
      "outputs": []
    },
    {
      "cell_type": "code",
      "source": [
        "numpy_A = np.arange(1, 25, dtype=np.int32)\n",
        "numpy_A, numpy_A.shape\n",
        "# X = tf.constant(some_matrix), capital for matrix or tensor\n",
        "# y = tf.constant(vector), non-capital for a vector"
      ],
      "metadata": {
        "colab": {
          "base_uri": "https://localhost:8080/"
        },
        "id": "DaX0EagHg6fA",
        "outputId": "a43818c5-af38-4fbf-830f-e20259ad262b"
      },
      "execution_count": 18,
      "outputs": [
        {
          "output_type": "execute_result",
          "data": {
            "text/plain": [
              "(array([ 1,  2,  3,  4,  5,  6,  7,  8,  9, 10, 11, 12, 13, 14, 15, 16, 17,\n",
              "        18, 19, 20, 21, 22, 23, 24], dtype=int32), (24,))"
            ]
          },
          "metadata": {},
          "execution_count": 18
        }
      ]
    },
    {
      "cell_type": "code",
      "source": [
        "# product of shape elements must be equal to len of Numpy vector\n",
        "A = tf.constant(numpy_A, shape=(2, 3, 4))\n",
        "b = tf.constant(numpy_A)\n",
        "A, 2*3*4, b"
      ],
      "metadata": {
        "colab": {
          "base_uri": "https://localhost:8080/"
        },
        "id": "dIa0mCNKhkFj",
        "outputId": "69687928-ae9c-4659-8685-9c79233470c8"
      },
      "execution_count": 24,
      "outputs": [
        {
          "output_type": "execute_result",
          "data": {
            "text/plain": [
              "(<tf.Tensor: shape=(2, 3, 4), dtype=int32, numpy=\n",
              " array([[[ 1,  2,  3,  4],\n",
              "         [ 5,  6,  7,  8],\n",
              "         [ 9, 10, 11, 12]],\n",
              " \n",
              "        [[13, 14, 15, 16],\n",
              "         [17, 18, 19, 20],\n",
              "         [21, 22, 23, 24]]], dtype=int32)>,\n",
              " 24,\n",
              " <tf.Tensor: shape=(24,), dtype=int32, numpy=\n",
              " array([ 1,  2,  3,  4,  5,  6,  7,  8,  9, 10, 11, 12, 13, 14, 15, 16, 17,\n",
              "        18, 19, 20, 21, 22, 23, 24], dtype=int32)>)"
            ]
          },
          "metadata": {},
          "execution_count": 24
        }
      ]
    },
    {
      "cell_type": "markdown",
      "source": [
        "### Getting info from tensors"
      ],
      "metadata": {
        "id": "w_4as1cmh0AP"
      }
    },
    {
      "cell_type": "code",
      "source": [],
      "metadata": {
        "id": "HXdn23PAjOrk"
      },
      "execution_count": null,
      "outputs": []
    }
  ]
}